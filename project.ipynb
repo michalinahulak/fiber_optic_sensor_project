{
  "cells": [
    {
      "cell_type": "markdown",
      "metadata": {
        "id": "view-in-github",
        "colab_type": "text"
      },
      "source": [
        "<a href=\"https://colab.research.google.com/github/michalinahulak/fiber_optic_sensor_project/blob/main/project.ipynb\" target=\"_parent\"><img src=\"https://colab.research.google.com/assets/colab-badge.svg\" alt=\"Open In Colab\"/></a>"
      ]
    },
    {
      "cell_type": "markdown",
      "metadata": {
        "id": "EEmgwZLzw8Tj"
      },
      "source": [
        "# Imports"
      ]
    },
    {
      "cell_type": "code",
      "execution_count": null,
      "metadata": {
        "id": "plBZ5iKE2Vsd"
      },
      "outputs": [],
      "source": [
        "!pip install ydata-profiling\n",
        "from ydata_profiling import ProfileReport"
      ]
    },
    {
      "cell_type": "code",
      "execution_count": 1,
      "metadata": {
        "id": "rusxgqYXw5Qk"
      },
      "outputs": [],
      "source": [
        "import pandas as pd\n",
        "\n",
        "import matplotlib.pyplot as plt\n",
        "import seaborn as sns\n",
        "\n",
        "import sklearn\n",
        "from sklearn.model_selection import train_test_split\n",
        "from sklearn.metrics import r2_score, mean_absolute_error, mean_squared_error\n",
        "from sklearn.linear_model import LinearRegression\n",
        "from sklearn.ensemble import RandomForestRegressor\n",
        "from sklearn.linear_model import SGDRegressor\n",
        "\n",
        "import xgboost as xgb\n",
        "from sklearn.preprocessing import MinMaxScaler\n",
        "\n",
        "from sklearn.model_selection import GridSearchCV"
      ]
    },
    {
      "cell_type": "markdown",
      "metadata": {
        "id": "iLhiNSjY1mtN"
      },
      "source": [
        "# Usefull shorts\n",
        "\n",
        "*   ipa - Isopropylic Alcohol\n",
        "*   H2O - water\n"
      ]
    },
    {
      "cell_type": "markdown",
      "metadata": {
        "id": "uVp9CVJs7za0"
      },
      "source": [
        "# Functions"
      ]
    },
    {
      "cell_type": "code",
      "execution_count": 2,
      "metadata": {
        "id": "lsH3lP-u7y7t"
      },
      "outputs": [],
      "source": [
        "# Read dataset - usefull only for uploading dataset directly from someones google drive\n",
        "\n",
        "def read_dataset(path1, path2, path3, number):\n",
        "  path_1 = 'https://drive.google.com/uc?export=download&id='+path1.split('/')[-2]\n",
        "  col_names = ['air wavelength', 'air amplitude']\n",
        "  dataset1 = pd.read_csv(path_1, names=col_names, header=None)\n",
        "\n",
        "  path_2 = 'https://drive.google.com/uc?export=download&id='+path2.split('/')[-2]\n",
        "  col_names = ['ipa wavelength', 'ipa amplitude']\n",
        "  dataset2 = pd.read_csv(path_2, names=col_names, header=None)\n",
        "\n",
        "  path_3 = 'https://drive.google.com/uc?export=download&id='+path3.split('/')[-2]\n",
        "  col_names = ['H2O wavelength', 'H2O amplitude']\n",
        "  dataset3 = pd.read_csv(path_3, names=col_names, header=None)\n",
        "\n",
        "  # concat\n",
        "  dataset = pd.concat([dataset1, dataset2, dataset3], axis=1)\n",
        "\n",
        "  #add new colum with the number of sensor sample\n",
        "  dataset['Number of sensor'] = f'Sensor {number}'\n",
        "\n",
        "  return dataset"
      ]
    },
    {
      "cell_type": "code",
      "execution_count": 3,
      "metadata": {
        "id": "rbhNRUlNZiki"
      },
      "outputs": [],
      "source": [
        "# Line plot for selected sensor sample\n",
        "def lineplot (sensor):\n",
        "    \n",
        "  fig, ax = plt.subplots(figsize = (5,2)) \n",
        "\n",
        "  ax.plot(dataset.loc[dataset['Number of sensor'] == sensor, 'air wavelength'], \n",
        "          dataset.loc[dataset['Number of sensor'] == sensor,'air amplitude'], \n",
        "          label='Air', color = 'blue') \n",
        "\n",
        "  ax.plot(dataset.loc[dataset['Number of sensor'] == sensor,'ipa wavelength'], \n",
        "          dataset.loc[dataset['Number of sensor'] == sensor,'ipa amplitude'], \n",
        "          label='Isopropylic Alcohol', color = 'orange')\n",
        "  \n",
        "  ax.plot(dataset.loc[dataset['Number of sensor'] == sensor,'H2O wavelength'], \n",
        "          dataset.loc[dataset['Number of sensor'] == sensor,'H2O amplitude'], \n",
        "          label='Water', color = 'green')\n",
        "  \n",
        "  ax.grid() \n",
        "  ax.legend(loc='lower left')\n",
        "  ax.set_title(f'Lineplot for {sensor}') \n",
        "  ax.set_xlabel('Wavelength [nm]')\n",
        "  ax.set_ylabel('Amplitude [dB]')\n",
        "\n",
        "  plt.show()"
      ]
    },
    {
      "cell_type": "code",
      "source": [
        "def heatmap(df, title):\n",
        "  ax = sns.heatmap(dataset.corr(),\n",
        "                 xticklabels=dataset.corr().columns,\n",
        "                 yticklabels=dataset.corr().columns,\n",
        "                 cmap='Blues', \n",
        "                 vmin=-1, vmax=1,\n",
        "                 annot=True, \n",
        "                 center=0\n",
        "                 )\n",
        "\n",
        "\n",
        "  plt.title(f'{title}', fontsize=20)\n",
        "  bottom, top = ax.get_ylim()\n",
        "  ax.set_ylim(bottom +0.25, top -0.25)\n",
        "  plt.show()"
      ],
      "metadata": {
        "id": "M66i7eiT4y94"
      },
      "execution_count": 4,
      "outputs": []
    },
    {
      "cell_type": "code",
      "source": [
        "# Modeling \n",
        "\n",
        "def modeling(x, y, model):\n",
        "  X = x\n",
        "  y = y\n",
        "\n",
        "  X_train, X_test, y_train, y_test = train_test_split(X, y, test_size=0.2, random_state=42)\n",
        "  X_train, X_val, y_train, y_val = train_test_split(X_train, y_train, test_size=0.2, random_state=42)\n",
        "\n",
        "  model = model\n",
        "  model.fit(X_train, y_train)\n",
        "  preds_val = model.predict(X_val)\n",
        "  preds_test = model.predict(X_test)\n",
        "  print(f'Metrics for {model}')\n",
        "  print(\"Validation : Mean absolute error: \", mean_absolute_error(y_val, preds_val))\n",
        "  print(\"Validation: R2 score: \",r2_score(y_val, preds_val))\n",
        "  print(\"Test : Mean absolute error: \", mean_absolute_error(y_test, preds_test))\n",
        "  print(\"Test: R2 score: \",r2_score(y_test, preds_test))"
      ],
      "metadata": {
        "id": "V_g-98msD9_M"
      },
      "execution_count": 5,
      "outputs": []
    },
    {
      "cell_type": "markdown",
      "metadata": {
        "id": "hu8Xq5SB-ELb"
      },
      "source": [
        "# Upload dataset"
      ]
    },
    {
      "cell_type": "markdown",
      "metadata": {
        "id": "XLY_5TeeD1Ir"
      },
      "source": [
        "## Upload directly from someones google drive\n",
        "!! This method is time consuming and the downloading of files is not automatic. In the future, use the os/glob/Path libraries to automatically load files !!\n",
        "\n",
        "So, once I could upload files, I download ready dataset. Unhide the cells only if you want to check how I uploaded files."
      ]
    },
    {
      "cell_type": "code",
      "execution_count": null,
      "metadata": {
        "colab": {
          "base_uri": "https://localhost:8080/",
          "height": 423
        },
        "id": "9PVNW7Hq-LyZ",
        "outputId": "018dd50c-8688-46e8-eda1-29540814ddaf"
      },
      "outputs": [
        {
          "data": {
            "text/html": [
              "\n",
              "  <div id=\"df-61754284-f84c-4a28-bb9c-31e591094207\">\n",
              "    <div class=\"colab-df-container\">\n",
              "      <div>\n",
              "<style scoped>\n",
              "    .dataframe tbody tr th:only-of-type {\n",
              "        vertical-align: middle;\n",
              "    }\n",
              "\n",
              "    .dataframe tbody tr th {\n",
              "        vertical-align: top;\n",
              "    }\n",
              "\n",
              "    .dataframe thead th {\n",
              "        text-align: right;\n",
              "    }\n",
              "</style>\n",
              "<table border=\"1\" class=\"dataframe\">\n",
              "  <thead>\n",
              "    <tr style=\"text-align: right;\">\n",
              "      <th></th>\n",
              "      <th>air wavelength</th>\n",
              "      <th>air amplitude</th>\n",
              "      <th>ipa wavelength</th>\n",
              "      <th>ipa amplitude</th>\n",
              "      <th>H2O wavelength</th>\n",
              "      <th>H2O amplitude</th>\n",
              "      <th>Number of sensor</th>\n",
              "    </tr>\n",
              "  </thead>\n",
              "  <tbody>\n",
              "    <tr>\n",
              "      <th>0</th>\n",
              "      <td>0.000001</td>\n",
              "      <td>9.1792</td>\n",
              "      <td>0.000001</td>\n",
              "      <td>8.55510</td>\n",
              "      <td>0.000001</td>\n",
              "      <td>8.35700</td>\n",
              "      <td>Sensor 1</td>\n",
              "    </tr>\n",
              "    <tr>\n",
              "      <th>1</th>\n",
              "      <td>0.000001</td>\n",
              "      <td>9.2003</td>\n",
              "      <td>0.000001</td>\n",
              "      <td>8.67500</td>\n",
              "      <td>0.000001</td>\n",
              "      <td>8.42870</td>\n",
              "      <td>Sensor 1</td>\n",
              "    </tr>\n",
              "    <tr>\n",
              "      <th>2</th>\n",
              "      <td>0.000001</td>\n",
              "      <td>9.1968</td>\n",
              "      <td>0.000001</td>\n",
              "      <td>8.71160</td>\n",
              "      <td>0.000001</td>\n",
              "      <td>8.44220</td>\n",
              "      <td>Sensor 1</td>\n",
              "    </tr>\n",
              "    <tr>\n",
              "      <th>3</th>\n",
              "      <td>0.000001</td>\n",
              "      <td>9.1028</td>\n",
              "      <td>0.000001</td>\n",
              "      <td>8.71570</td>\n",
              "      <td>0.000001</td>\n",
              "      <td>8.41440</td>\n",
              "      <td>Sensor 1</td>\n",
              "    </tr>\n",
              "    <tr>\n",
              "      <th>4</th>\n",
              "      <td>0.000001</td>\n",
              "      <td>9.0601</td>\n",
              "      <td>0.000001</td>\n",
              "      <td>8.67920</td>\n",
              "      <td>0.000001</td>\n",
              "      <td>8.40340</td>\n",
              "      <td>Sensor 1</td>\n",
              "    </tr>\n",
              "    <tr>\n",
              "      <th>...</th>\n",
              "      <td>...</td>\n",
              "      <td>...</td>\n",
              "      <td>...</td>\n",
              "      <td>...</td>\n",
              "      <td>...</td>\n",
              "      <td>...</td>\n",
              "      <td>...</td>\n",
              "    </tr>\n",
              "    <tr>\n",
              "      <th>2996</th>\n",
              "      <td>0.000002</td>\n",
              "      <td>3.2784</td>\n",
              "      <td>0.000002</td>\n",
              "      <td>-0.61478</td>\n",
              "      <td>0.000002</td>\n",
              "      <td>-0.86565</td>\n",
              "      <td>Sensor 10</td>\n",
              "    </tr>\n",
              "    <tr>\n",
              "      <th>2997</th>\n",
              "      <td>0.000002</td>\n",
              "      <td>3.4213</td>\n",
              "      <td>0.000002</td>\n",
              "      <td>-0.53629</td>\n",
              "      <td>0.000002</td>\n",
              "      <td>-0.84435</td>\n",
              "      <td>Sensor 10</td>\n",
              "    </tr>\n",
              "    <tr>\n",
              "      <th>2998</th>\n",
              "      <td>0.000002</td>\n",
              "      <td>3.3112</td>\n",
              "      <td>0.000002</td>\n",
              "      <td>-0.81838</td>\n",
              "      <td>0.000002</td>\n",
              "      <td>-0.97383</td>\n",
              "      <td>Sensor 10</td>\n",
              "    </tr>\n",
              "    <tr>\n",
              "      <th>2999</th>\n",
              "      <td>0.000002</td>\n",
              "      <td>3.4500</td>\n",
              "      <td>0.000002</td>\n",
              "      <td>-0.57202</td>\n",
              "      <td>0.000002</td>\n",
              "      <td>-0.63849</td>\n",
              "      <td>Sensor 10</td>\n",
              "    </tr>\n",
              "    <tr>\n",
              "      <th>3000</th>\n",
              "      <td>0.000002</td>\n",
              "      <td>3.6370</td>\n",
              "      <td>0.000002</td>\n",
              "      <td>-0.42871</td>\n",
              "      <td>0.000002</td>\n",
              "      <td>-0.75215</td>\n",
              "      <td>Sensor 10</td>\n",
              "    </tr>\n",
              "  </tbody>\n",
              "</table>\n",
              "<p>30010 rows × 7 columns</p>\n",
              "</div>\n",
              "      <button class=\"colab-df-convert\" onclick=\"convertToInteractive('df-61754284-f84c-4a28-bb9c-31e591094207')\"\n",
              "              title=\"Convert this dataframe to an interactive table.\"\n",
              "              style=\"display:none;\">\n",
              "        \n",
              "  <svg xmlns=\"http://www.w3.org/2000/svg\" height=\"24px\"viewBox=\"0 0 24 24\"\n",
              "       width=\"24px\">\n",
              "    <path d=\"M0 0h24v24H0V0z\" fill=\"none\"/>\n",
              "    <path d=\"M18.56 5.44l.94 2.06.94-2.06 2.06-.94-2.06-.94-.94-2.06-.94 2.06-2.06.94zm-11 1L8.5 8.5l.94-2.06 2.06-.94-2.06-.94L8.5 2.5l-.94 2.06-2.06.94zm10 10l.94 2.06.94-2.06 2.06-.94-2.06-.94-.94-2.06-.94 2.06-2.06.94z\"/><path d=\"M17.41 7.96l-1.37-1.37c-.4-.4-.92-.59-1.43-.59-.52 0-1.04.2-1.43.59L10.3 9.45l-7.72 7.72c-.78.78-.78 2.05 0 2.83L4 21.41c.39.39.9.59 1.41.59.51 0 1.02-.2 1.41-.59l7.78-7.78 2.81-2.81c.8-.78.8-2.07 0-2.86zM5.41 20L4 18.59l7.72-7.72 1.47 1.35L5.41 20z\"/>\n",
              "  </svg>\n",
              "      </button>\n",
              "      \n",
              "  <style>\n",
              "    .colab-df-container {\n",
              "      display:flex;\n",
              "      flex-wrap:wrap;\n",
              "      gap: 12px;\n",
              "    }\n",
              "\n",
              "    .colab-df-convert {\n",
              "      background-color: #E8F0FE;\n",
              "      border: none;\n",
              "      border-radius: 50%;\n",
              "      cursor: pointer;\n",
              "      display: none;\n",
              "      fill: #1967D2;\n",
              "      height: 32px;\n",
              "      padding: 0 0 0 0;\n",
              "      width: 32px;\n",
              "    }\n",
              "\n",
              "    .colab-df-convert:hover {\n",
              "      background-color: #E2EBFA;\n",
              "      box-shadow: 0px 1px 2px rgba(60, 64, 67, 0.3), 0px 1px 3px 1px rgba(60, 64, 67, 0.15);\n",
              "      fill: #174EA6;\n",
              "    }\n",
              "\n",
              "    [theme=dark] .colab-df-convert {\n",
              "      background-color: #3B4455;\n",
              "      fill: #D2E3FC;\n",
              "    }\n",
              "\n",
              "    [theme=dark] .colab-df-convert:hover {\n",
              "      background-color: #434B5C;\n",
              "      box-shadow: 0px 1px 3px 1px rgba(0, 0, 0, 0.15);\n",
              "      filter: drop-shadow(0px 1px 2px rgba(0, 0, 0, 0.3));\n",
              "      fill: #FFFFFF;\n",
              "    }\n",
              "  </style>\n",
              "\n",
              "      <script>\n",
              "        const buttonEl =\n",
              "          document.querySelector('#df-61754284-f84c-4a28-bb9c-31e591094207 button.colab-df-convert');\n",
              "        buttonEl.style.display =\n",
              "          google.colab.kernel.accessAllowed ? 'block' : 'none';\n",
              "\n",
              "        async function convertToInteractive(key) {\n",
              "          const element = document.querySelector('#df-61754284-f84c-4a28-bb9c-31e591094207');\n",
              "          const dataTable =\n",
              "            await google.colab.kernel.invokeFunction('convertToInteractive',\n",
              "                                                     [key], {});\n",
              "          if (!dataTable) return;\n",
              "\n",
              "          const docLinkHtml = 'Like what you see? Visit the ' +\n",
              "            '<a target=\"_blank\" href=https://colab.research.google.com/notebooks/data_table.ipynb>data table notebook</a>'\n",
              "            + ' to learn more about interactive tables.';\n",
              "          element.innerHTML = '';\n",
              "          dataTable['output_type'] = 'display_data';\n",
              "          await google.colab.output.renderOutput(dataTable, element);\n",
              "          const docLink = document.createElement('div');\n",
              "          docLink.innerHTML = docLinkHtml;\n",
              "          element.appendChild(docLink);\n",
              "        }\n",
              "      </script>\n",
              "    </div>\n",
              "  </div>\n",
              "  "
            ],
            "text/plain": [
              "      air wavelength  air amplitude  ipa wavelength  ipa amplitude  \\\n",
              "0           0.000001         9.1792        0.000001        8.55510   \n",
              "1           0.000001         9.2003        0.000001        8.67500   \n",
              "2           0.000001         9.1968        0.000001        8.71160   \n",
              "3           0.000001         9.1028        0.000001        8.71570   \n",
              "4           0.000001         9.0601        0.000001        8.67920   \n",
              "...              ...            ...             ...            ...   \n",
              "2996        0.000002         3.2784        0.000002       -0.61478   \n",
              "2997        0.000002         3.4213        0.000002       -0.53629   \n",
              "2998        0.000002         3.3112        0.000002       -0.81838   \n",
              "2999        0.000002         3.4500        0.000002       -0.57202   \n",
              "3000        0.000002         3.6370        0.000002       -0.42871   \n",
              "\n",
              "      H2O wavelength  H2O amplitude Number of sensor  \n",
              "0           0.000001        8.35700         Sensor 1  \n",
              "1           0.000001        8.42870         Sensor 1  \n",
              "2           0.000001        8.44220         Sensor 1  \n",
              "3           0.000001        8.41440         Sensor 1  \n",
              "4           0.000001        8.40340         Sensor 1  \n",
              "...              ...            ...              ...  \n",
              "2996        0.000002       -0.86565        Sensor 10  \n",
              "2997        0.000002       -0.84435        Sensor 10  \n",
              "2998        0.000002       -0.97383        Sensor 10  \n",
              "2999        0.000002       -0.63849        Sensor 10  \n",
              "3000        0.000002       -0.75215        Sensor 10  \n",
              "\n",
              "[30010 rows x 7 columns]"
            ]
          },
          "execution_count": 23,
          "metadata": {},
          "output_type": "execute_result"
        }
      ],
      "source": [
        "set1 = read_dataset('https://drive.google.com/file/d/1LM9mCShE-5yAtVYFmjvT8gqgnCr9s2rW/view?usp=share_link',\n",
        "             'https://drive.google.com/file/d/17DfvpSqYgEA4R_DijRwWgS7XsUXZeYkS/view?usp=share_link',\n",
        "             'https://drive.google.com/file/d/1TGUQyhJjhDx3qp05e4Zfv6Z20DLUur4y/view?usp=share_link',\n",
        "             1)\n",
        "set2 = read_dataset('https://drive.google.com/file/d/148xK-bCWO35H9wrOJQDu5dGsHOPWy68C/view?usp=share_link',\n",
        "                    'https://drive.google.com/file/d/1ZFFpmp86fOPdrt38jZm-a8LDFDcGBq4z/view?usp=share_link',\n",
        "                    'https://drive.google.com/file/d/1B-IEuA0PxgPtfbdqYZe3JrSMGKm2WN2u/view?usp=share_link',\n",
        "                    2)\n",
        "set3 = read_dataset('https://drive.google.com/file/d/1kEZRMklztXEbu59E10p6m09lX7A8jCAO/view?usp=share_link',\n",
        "                    'https://drive.google.com/file/d/1ZVmOBZEMF48U0tE9E5iqN-aHtnKaBNch/view?usp=share_link',\n",
        "                    'https://drive.google.com/file/d/1Y5_mQESCc7hYiHG14HfBcvLNND5fZ_ao/view?usp=share_link',\n",
        "                    3)\n",
        "set4 = read_dataset('https://drive.google.com/file/d/1aktTnDg_iuQbFkARU5eyRFwbtL93oZII/view?usp=share_link',\n",
        "                    'https://drive.google.com/file/d/1i8qdvwY-9wkiqMg-uBvQ70vj13EPgxrE/view?usp=share_link',\n",
        "                    'https://drive.google.com/file/d/1ol7hvVqQ9Vw2d5Qng3BLa7rVtarR6I9i/view?usp=share_link',\n",
        "                    4)\n",
        "set5 = read_dataset('https://drive.google.com/file/d/1RIgK2tfveoX4fiIUTsF5rToBeVC8sQA7/view?usp=share_link',\n",
        "                    'https://drive.google.com/file/d/1XtQKxuD8Vy5ih9yFvqlvQKnxzd-x_HH5/view?usp=share_link',\n",
        "                    'https://drive.google.com/file/d/1k1WAB_tWNU-ScGE-iaYUIMK_ekFmCFUG/view?usp=share_link',\n",
        "                    5)\n",
        "set6 = read_dataset('https://drive.google.com/file/d/1_XWeB9WQpN8FLlzS7QvYu3adwrRGTDYd/view?usp=share_link',\n",
        "                  'https://drive.google.com/file/d/1ooatrDVRE9qS2WsAdhwrWpvBJQkeU3iK/view?usp=share_link',\n",
        "                  'https://drive.google.com/file/d/10dpvNM_5t0ViXl1K3q4jd_Ys3f2m3sgX/view?usp=share_link',\n",
        "                  6)\n",
        "set7 = read_dataset('https://drive.google.com/file/d/1U9Wa9EsBOGtA55McyN3fREOQJl9D8-E_/view?usp=share_link',\n",
        "                  'https://drive.google.com/file/d/1xJg4Bs-LHFJ59B8mI7sEXbIbvWXngxX5/view?usp=share_link',\n",
        "                  'https://drive.google.com/file/d/1AbTvzIKv2xeuDrZaRPPJYU2O4-A4rhWs/view?usp=share_link',\n",
        "                  7)\n",
        "set8 = read_dataset('https://drive.google.com/file/d/1AbTvzIKv2xeuDrZaRPPJYU2O4-A4rhWs/view?usp=share_link',\n",
        "                    'https://drive.google.com/file/d/1nvXy9rD3HyJWg5D6dIsfuxjKSmkMlWXJ/view?usp=share_link',\n",
        "                    'https://drive.google.com/file/d/1CBWMKS2ZGZ9TiKTAnQPDhnDTRRY1EZbD/view?usp=share_link',\n",
        "                    8)\n",
        "set9 = read_dataset('https://drive.google.com/file/d/1PhTyHA1gXR1rSvSO6_6Px_XBYWpCe7Un/view?usp=share_link',\n",
        "                    'https://drive.google.com/file/d/1edNOlcwtGuGIlAbOjE_9jVOD0g_eWrMu/view?usp=share_link',\n",
        "                    'https://drive.google.com/file/d/1J8M5jq7OpBMEIKQIN0icaZF5866ZN1Ec/view?usp=share_link',\n",
        "                    9)\n",
        "set10 = read_dataset('https://drive.google.com/file/d/1ZggdSRJNNKT09D-FNzfKX8LQZED37GX2/view?usp=share_link',\n",
        "                     'https://drive.google.com/file/d/1Q4b-yxLughokuzURH8zVoGUvzerPToqU/view?usp=share_link',\n",
        "                     'https://drive.google.com/file/d/13C3p1sI__V2bm6gM0tk8fRwuaNOHZ4k1/view?usp=share_link',\n",
        "                     10)\n",
        "\n",
        "#concat\n",
        "\n",
        "dataset = pd.concat([set1, set2, set3, set4, set5, set6, set7, set8, set9, set10])\n",
        "dataset"
      ]
    },
    {
      "cell_type": "code",
      "execution_count": null,
      "metadata": {
        "colab": {
          "base_uri": "https://localhost:8080/"
        },
        "id": "CH09pTuKIwnq",
        "outputId": "8326e2a8-62bf-4c14-fab0-3d1dfb412951"
      },
      "outputs": [
        {
          "name": "stdout",
          "output_type": "stream",
          "text": [
            "Drive already mounted at /content/drive; to attempt to forcibly remount, call drive.mount(\"/content/drive\", force_remount=True).\n"
          ]
        }
      ],
      "source": [
        "from google.colab import drive\n",
        "drive.mount('/content/drive')\n",
        "path = '/content/drive/My Drive/Colab Notebooks/Fiber_optic_sensor_project/sensors_dataset.csv'"
      ]
    },
    {
      "cell_type": "code",
      "execution_count": null,
      "metadata": {
        "id": "dPEQCJCmI-E3"
      },
      "outputs": [],
      "source": [
        "# save dataset as csv file \n",
        "\n",
        "with open(path, 'w', encoding = 'utf-8-sig') as f:\n",
        "  dataset.to_csv(f)"
      ]
    },
    {
      "cell_type": "markdown",
      "metadata": {
        "id": "xDBIDBj4EjZ2"
      },
      "source": [
        "## Upload from my google drive"
      ]
    },
    {
      "cell_type": "code",
      "execution_count": null,
      "metadata": {
        "id": "5SOZtnYIDyxj"
      },
      "outputs": [],
      "source": [
        "from google.colab import drive\n",
        "drive.mount('/content/drive/')"
      ]
    },
    {
      "cell_type": "code",
      "execution_count": null,
      "metadata": {
        "id": "virn2ZjxEtED"
      },
      "outputs": [],
      "source": [
        "!ls -la '/content/drive/My Drive/Colab Notebooks/Fiber_optic_sensor_project'"
      ]
    },
    {
      "cell_type": "code",
      "source": [
        "%cd /content/drive/My Drive/Colab Notebooks/Fiber_optic_sensor_project"
      ],
      "metadata": {
        "colab": {
          "base_uri": "https://localhost:8080/"
        },
        "id": "x7npTauQsdlj",
        "outputId": "cf0c68c9-c25b-4b25-acdf-94a8e5965bc7"
      },
      "execution_count": 8,
      "outputs": [
        {
          "output_type": "stream",
          "name": "stdout",
          "text": [
            "/content/drive/My Drive/Colab Notebooks/Fiber_optic_sensor_project\n"
          ]
        }
      ]
    },
    {
      "cell_type": "code",
      "execution_count": 9,
      "metadata": {
        "colab": {
          "base_uri": "https://localhost:8080/",
          "height": 206
        },
        "id": "2Rr3-dNjGBVA",
        "outputId": "91d28d08-3f83-43f5-dfa5-bb88b7c448df"
      },
      "outputs": [
        {
          "output_type": "execute_result",
          "data": {
            "text/plain": [
              "   air wavelength  air amplitude  ipa wavelength  ipa amplitude  \\\n",
              "0        0.000001         9.1792        0.000001         8.5551   \n",
              "1        0.000001         9.2003        0.000001         8.6750   \n",
              "2        0.000001         9.1968        0.000001         8.7116   \n",
              "3        0.000001         9.1028        0.000001         8.7157   \n",
              "4        0.000001         9.0601        0.000001         8.6792   \n",
              "\n",
              "   H2O wavelength  H2O amplitude Number of sensor  \n",
              "0        0.000001         8.3570         Sensor 1  \n",
              "1        0.000001         8.4287         Sensor 1  \n",
              "2        0.000001         8.4422         Sensor 1  \n",
              "3        0.000001         8.4144         Sensor 1  \n",
              "4        0.000001         8.4034         Sensor 1  "
            ],
            "text/html": [
              "\n",
              "  <div id=\"df-db81e781-ffbf-4dad-ba32-ec41fd3c1e4c\">\n",
              "    <div class=\"colab-df-container\">\n",
              "      <div>\n",
              "<style scoped>\n",
              "    .dataframe tbody tr th:only-of-type {\n",
              "        vertical-align: middle;\n",
              "    }\n",
              "\n",
              "    .dataframe tbody tr th {\n",
              "        vertical-align: top;\n",
              "    }\n",
              "\n",
              "    .dataframe thead th {\n",
              "        text-align: right;\n",
              "    }\n",
              "</style>\n",
              "<table border=\"1\" class=\"dataframe\">\n",
              "  <thead>\n",
              "    <tr style=\"text-align: right;\">\n",
              "      <th></th>\n",
              "      <th>air wavelength</th>\n",
              "      <th>air amplitude</th>\n",
              "      <th>ipa wavelength</th>\n",
              "      <th>ipa amplitude</th>\n",
              "      <th>H2O wavelength</th>\n",
              "      <th>H2O amplitude</th>\n",
              "      <th>Number of sensor</th>\n",
              "    </tr>\n",
              "  </thead>\n",
              "  <tbody>\n",
              "    <tr>\n",
              "      <th>0</th>\n",
              "      <td>0.000001</td>\n",
              "      <td>9.1792</td>\n",
              "      <td>0.000001</td>\n",
              "      <td>8.5551</td>\n",
              "      <td>0.000001</td>\n",
              "      <td>8.3570</td>\n",
              "      <td>Sensor 1</td>\n",
              "    </tr>\n",
              "    <tr>\n",
              "      <th>1</th>\n",
              "      <td>0.000001</td>\n",
              "      <td>9.2003</td>\n",
              "      <td>0.000001</td>\n",
              "      <td>8.6750</td>\n",
              "      <td>0.000001</td>\n",
              "      <td>8.4287</td>\n",
              "      <td>Sensor 1</td>\n",
              "    </tr>\n",
              "    <tr>\n",
              "      <th>2</th>\n",
              "      <td>0.000001</td>\n",
              "      <td>9.1968</td>\n",
              "      <td>0.000001</td>\n",
              "      <td>8.7116</td>\n",
              "      <td>0.000001</td>\n",
              "      <td>8.4422</td>\n",
              "      <td>Sensor 1</td>\n",
              "    </tr>\n",
              "    <tr>\n",
              "      <th>3</th>\n",
              "      <td>0.000001</td>\n",
              "      <td>9.1028</td>\n",
              "      <td>0.000001</td>\n",
              "      <td>8.7157</td>\n",
              "      <td>0.000001</td>\n",
              "      <td>8.4144</td>\n",
              "      <td>Sensor 1</td>\n",
              "    </tr>\n",
              "    <tr>\n",
              "      <th>4</th>\n",
              "      <td>0.000001</td>\n",
              "      <td>9.0601</td>\n",
              "      <td>0.000001</td>\n",
              "      <td>8.6792</td>\n",
              "      <td>0.000001</td>\n",
              "      <td>8.4034</td>\n",
              "      <td>Sensor 1</td>\n",
              "    </tr>\n",
              "  </tbody>\n",
              "</table>\n",
              "</div>\n",
              "      <button class=\"colab-df-convert\" onclick=\"convertToInteractive('df-db81e781-ffbf-4dad-ba32-ec41fd3c1e4c')\"\n",
              "              title=\"Convert this dataframe to an interactive table.\"\n",
              "              style=\"display:none;\">\n",
              "        \n",
              "  <svg xmlns=\"http://www.w3.org/2000/svg\" height=\"24px\"viewBox=\"0 0 24 24\"\n",
              "       width=\"24px\">\n",
              "    <path d=\"M0 0h24v24H0V0z\" fill=\"none\"/>\n",
              "    <path d=\"M18.56 5.44l.94 2.06.94-2.06 2.06-.94-2.06-.94-.94-2.06-.94 2.06-2.06.94zm-11 1L8.5 8.5l.94-2.06 2.06-.94-2.06-.94L8.5 2.5l-.94 2.06-2.06.94zm10 10l.94 2.06.94-2.06 2.06-.94-2.06-.94-.94-2.06-.94 2.06-2.06.94z\"/><path d=\"M17.41 7.96l-1.37-1.37c-.4-.4-.92-.59-1.43-.59-.52 0-1.04.2-1.43.59L10.3 9.45l-7.72 7.72c-.78.78-.78 2.05 0 2.83L4 21.41c.39.39.9.59 1.41.59.51 0 1.02-.2 1.41-.59l7.78-7.78 2.81-2.81c.8-.78.8-2.07 0-2.86zM5.41 20L4 18.59l7.72-7.72 1.47 1.35L5.41 20z\"/>\n",
              "  </svg>\n",
              "      </button>\n",
              "      \n",
              "  <style>\n",
              "    .colab-df-container {\n",
              "      display:flex;\n",
              "      flex-wrap:wrap;\n",
              "      gap: 12px;\n",
              "    }\n",
              "\n",
              "    .colab-df-convert {\n",
              "      background-color: #E8F0FE;\n",
              "      border: none;\n",
              "      border-radius: 50%;\n",
              "      cursor: pointer;\n",
              "      display: none;\n",
              "      fill: #1967D2;\n",
              "      height: 32px;\n",
              "      padding: 0 0 0 0;\n",
              "      width: 32px;\n",
              "    }\n",
              "\n",
              "    .colab-df-convert:hover {\n",
              "      background-color: #E2EBFA;\n",
              "      box-shadow: 0px 1px 2px rgba(60, 64, 67, 0.3), 0px 1px 3px 1px rgba(60, 64, 67, 0.15);\n",
              "      fill: #174EA6;\n",
              "    }\n",
              "\n",
              "    [theme=dark] .colab-df-convert {\n",
              "      background-color: #3B4455;\n",
              "      fill: #D2E3FC;\n",
              "    }\n",
              "\n",
              "    [theme=dark] .colab-df-convert:hover {\n",
              "      background-color: #434B5C;\n",
              "      box-shadow: 0px 1px 3px 1px rgba(0, 0, 0, 0.15);\n",
              "      filter: drop-shadow(0px 1px 2px rgba(0, 0, 0, 0.3));\n",
              "      fill: #FFFFFF;\n",
              "    }\n",
              "  </style>\n",
              "\n",
              "      <script>\n",
              "        const buttonEl =\n",
              "          document.querySelector('#df-db81e781-ffbf-4dad-ba32-ec41fd3c1e4c button.colab-df-convert');\n",
              "        buttonEl.style.display =\n",
              "          google.colab.kernel.accessAllowed ? 'block' : 'none';\n",
              "\n",
              "        async function convertToInteractive(key) {\n",
              "          const element = document.querySelector('#df-db81e781-ffbf-4dad-ba32-ec41fd3c1e4c');\n",
              "          const dataTable =\n",
              "            await google.colab.kernel.invokeFunction('convertToInteractive',\n",
              "                                                     [key], {});\n",
              "          if (!dataTable) return;\n",
              "\n",
              "          const docLinkHtml = 'Like what you see? Visit the ' +\n",
              "            '<a target=\"_blank\" href=https://colab.research.google.com/notebooks/data_table.ipynb>data table notebook</a>'\n",
              "            + ' to learn more about interactive tables.';\n",
              "          element.innerHTML = '';\n",
              "          dataTable['output_type'] = 'display_data';\n",
              "          await google.colab.output.renderOutput(dataTable, element);\n",
              "          const docLink = document.createElement('div');\n",
              "          docLink.innerHTML = docLinkHtml;\n",
              "          element.appendChild(docLink);\n",
              "        }\n",
              "      </script>\n",
              "    </div>\n",
              "  </div>\n",
              "  "
            ]
          },
          "metadata": {},
          "execution_count": 9
        }
      ],
      "source": [
        "dataset = pd.read_csv('sensors_dataset.csv')\n",
        "dataset.drop('Unnamed: 0', axis=1, inplace=True)\n",
        "dataset.head(5)"
      ]
    },
    {
      "cell_type": "markdown",
      "source": [
        "# Extracting data\n",
        "The wavelength is usually given in [nm]."
      ],
      "metadata": {
        "id": "qPRB1G3WA7Gu"
      }
    },
    {
      "cell_type": "code",
      "source": [
        "dataset['air wavelength'] = dataset['air wavelength'] * 1000000000\n",
        "dataset['ipa wavelength'] = dataset['ipa wavelength'] * 1000000000\n",
        "dataset['H2O wavelength'] = dataset['H2O wavelength'] * 1000000000\n",
        "dataset.head()"
      ],
      "metadata": {
        "colab": {
          "base_uri": "https://localhost:8080/",
          "height": 206
        },
        "id": "gOTSFtzMBYPd",
        "outputId": "368cb759-a249-429b-dd0e-adeb1f744df1"
      },
      "execution_count": 10,
      "outputs": [
        {
          "output_type": "execute_result",
          "data": {
            "text/plain": [
              "   air wavelength  air amplitude  ipa wavelength  ipa amplitude  \\\n",
              "0          1350.0         9.1792          1350.0         8.5551   \n",
              "1          1350.1         9.2003          1350.1         8.6750   \n",
              "2          1350.2         9.1968          1350.2         8.7116   \n",
              "3          1350.3         9.1028          1350.3         8.7157   \n",
              "4          1350.4         9.0601          1350.4         8.6792   \n",
              "\n",
              "   H2O wavelength  H2O amplitude Number of sensor  \n",
              "0          1350.0         8.3570         Sensor 1  \n",
              "1          1350.1         8.4287         Sensor 1  \n",
              "2          1350.2         8.4422         Sensor 1  \n",
              "3          1350.3         8.4144         Sensor 1  \n",
              "4          1350.4         8.4034         Sensor 1  "
            ],
            "text/html": [
              "\n",
              "  <div id=\"df-dae67889-ed5b-48a9-a26c-6bcda0909c6a\">\n",
              "    <div class=\"colab-df-container\">\n",
              "      <div>\n",
              "<style scoped>\n",
              "    .dataframe tbody tr th:only-of-type {\n",
              "        vertical-align: middle;\n",
              "    }\n",
              "\n",
              "    .dataframe tbody tr th {\n",
              "        vertical-align: top;\n",
              "    }\n",
              "\n",
              "    .dataframe thead th {\n",
              "        text-align: right;\n",
              "    }\n",
              "</style>\n",
              "<table border=\"1\" class=\"dataframe\">\n",
              "  <thead>\n",
              "    <tr style=\"text-align: right;\">\n",
              "      <th></th>\n",
              "      <th>air wavelength</th>\n",
              "      <th>air amplitude</th>\n",
              "      <th>ipa wavelength</th>\n",
              "      <th>ipa amplitude</th>\n",
              "      <th>H2O wavelength</th>\n",
              "      <th>H2O amplitude</th>\n",
              "      <th>Number of sensor</th>\n",
              "    </tr>\n",
              "  </thead>\n",
              "  <tbody>\n",
              "    <tr>\n",
              "      <th>0</th>\n",
              "      <td>1350.0</td>\n",
              "      <td>9.1792</td>\n",
              "      <td>1350.0</td>\n",
              "      <td>8.5551</td>\n",
              "      <td>1350.0</td>\n",
              "      <td>8.3570</td>\n",
              "      <td>Sensor 1</td>\n",
              "    </tr>\n",
              "    <tr>\n",
              "      <th>1</th>\n",
              "      <td>1350.1</td>\n",
              "      <td>9.2003</td>\n",
              "      <td>1350.1</td>\n",
              "      <td>8.6750</td>\n",
              "      <td>1350.1</td>\n",
              "      <td>8.4287</td>\n",
              "      <td>Sensor 1</td>\n",
              "    </tr>\n",
              "    <tr>\n",
              "      <th>2</th>\n",
              "      <td>1350.2</td>\n",
              "      <td>9.1968</td>\n",
              "      <td>1350.2</td>\n",
              "      <td>8.7116</td>\n",
              "      <td>1350.2</td>\n",
              "      <td>8.4422</td>\n",
              "      <td>Sensor 1</td>\n",
              "    </tr>\n",
              "    <tr>\n",
              "      <th>3</th>\n",
              "      <td>1350.3</td>\n",
              "      <td>9.1028</td>\n",
              "      <td>1350.3</td>\n",
              "      <td>8.7157</td>\n",
              "      <td>1350.3</td>\n",
              "      <td>8.4144</td>\n",
              "      <td>Sensor 1</td>\n",
              "    </tr>\n",
              "    <tr>\n",
              "      <th>4</th>\n",
              "      <td>1350.4</td>\n",
              "      <td>9.0601</td>\n",
              "      <td>1350.4</td>\n",
              "      <td>8.6792</td>\n",
              "      <td>1350.4</td>\n",
              "      <td>8.4034</td>\n",
              "      <td>Sensor 1</td>\n",
              "    </tr>\n",
              "  </tbody>\n",
              "</table>\n",
              "</div>\n",
              "      <button class=\"colab-df-convert\" onclick=\"convertToInteractive('df-dae67889-ed5b-48a9-a26c-6bcda0909c6a')\"\n",
              "              title=\"Convert this dataframe to an interactive table.\"\n",
              "              style=\"display:none;\">\n",
              "        \n",
              "  <svg xmlns=\"http://www.w3.org/2000/svg\" height=\"24px\"viewBox=\"0 0 24 24\"\n",
              "       width=\"24px\">\n",
              "    <path d=\"M0 0h24v24H0V0z\" fill=\"none\"/>\n",
              "    <path d=\"M18.56 5.44l.94 2.06.94-2.06 2.06-.94-2.06-.94-.94-2.06-.94 2.06-2.06.94zm-11 1L8.5 8.5l.94-2.06 2.06-.94-2.06-.94L8.5 2.5l-.94 2.06-2.06.94zm10 10l.94 2.06.94-2.06 2.06-.94-2.06-.94-.94-2.06-.94 2.06-2.06.94z\"/><path d=\"M17.41 7.96l-1.37-1.37c-.4-.4-.92-.59-1.43-.59-.52 0-1.04.2-1.43.59L10.3 9.45l-7.72 7.72c-.78.78-.78 2.05 0 2.83L4 21.41c.39.39.9.59 1.41.59.51 0 1.02-.2 1.41-.59l7.78-7.78 2.81-2.81c.8-.78.8-2.07 0-2.86zM5.41 20L4 18.59l7.72-7.72 1.47 1.35L5.41 20z\"/>\n",
              "  </svg>\n",
              "      </button>\n",
              "      \n",
              "  <style>\n",
              "    .colab-df-container {\n",
              "      display:flex;\n",
              "      flex-wrap:wrap;\n",
              "      gap: 12px;\n",
              "    }\n",
              "\n",
              "    .colab-df-convert {\n",
              "      background-color: #E8F0FE;\n",
              "      border: none;\n",
              "      border-radius: 50%;\n",
              "      cursor: pointer;\n",
              "      display: none;\n",
              "      fill: #1967D2;\n",
              "      height: 32px;\n",
              "      padding: 0 0 0 0;\n",
              "      width: 32px;\n",
              "    }\n",
              "\n",
              "    .colab-df-convert:hover {\n",
              "      background-color: #E2EBFA;\n",
              "      box-shadow: 0px 1px 2px rgba(60, 64, 67, 0.3), 0px 1px 3px 1px rgba(60, 64, 67, 0.15);\n",
              "      fill: #174EA6;\n",
              "    }\n",
              "\n",
              "    [theme=dark] .colab-df-convert {\n",
              "      background-color: #3B4455;\n",
              "      fill: #D2E3FC;\n",
              "    }\n",
              "\n",
              "    [theme=dark] .colab-df-convert:hover {\n",
              "      background-color: #434B5C;\n",
              "      box-shadow: 0px 1px 3px 1px rgba(0, 0, 0, 0.15);\n",
              "      filter: drop-shadow(0px 1px 2px rgba(0, 0, 0, 0.3));\n",
              "      fill: #FFFFFF;\n",
              "    }\n",
              "  </style>\n",
              "\n",
              "      <script>\n",
              "        const buttonEl =\n",
              "          document.querySelector('#df-dae67889-ed5b-48a9-a26c-6bcda0909c6a button.colab-df-convert');\n",
              "        buttonEl.style.display =\n",
              "          google.colab.kernel.accessAllowed ? 'block' : 'none';\n",
              "\n",
              "        async function convertToInteractive(key) {\n",
              "          const element = document.querySelector('#df-dae67889-ed5b-48a9-a26c-6bcda0909c6a');\n",
              "          const dataTable =\n",
              "            await google.colab.kernel.invokeFunction('convertToInteractive',\n",
              "                                                     [key], {});\n",
              "          if (!dataTable) return;\n",
              "\n",
              "          const docLinkHtml = 'Like what you see? Visit the ' +\n",
              "            '<a target=\"_blank\" href=https://colab.research.google.com/notebooks/data_table.ipynb>data table notebook</a>'\n",
              "            + ' to learn more about interactive tables.';\n",
              "          element.innerHTML = '';\n",
              "          dataTable['output_type'] = 'display_data';\n",
              "          await google.colab.output.renderOutput(dataTable, element);\n",
              "          const docLink = document.createElement('div');\n",
              "          docLink.innerHTML = docLinkHtml;\n",
              "          element.appendChild(docLink);\n",
              "        }\n",
              "      </script>\n",
              "    </div>\n",
              "  </div>\n",
              "  "
            ]
          },
          "metadata": {},
          "execution_count": 10
        }
      ]
    },
    {
      "cell_type": "markdown",
      "metadata": {
        "id": "YVvUJePcKN2x"
      },
      "source": [
        "# Basic information"
      ]
    },
    {
      "cell_type": "code",
      "execution_count": 11,
      "metadata": {
        "colab": {
          "base_uri": "https://localhost:8080/"
        },
        "id": "7K2nWs8s1nr3",
        "outputId": "6715d7c3-77cf-4440-967d-bf5da6eeae66"
      },
      "outputs": [
        {
          "output_type": "stream",
          "name": "stdout",
          "text": [
            "<class 'pandas.core.frame.DataFrame'>\n",
            "RangeIndex: 30010 entries, 0 to 30009\n",
            "Data columns (total 7 columns):\n",
            " #   Column            Non-Null Count  Dtype  \n",
            "---  ------            --------------  -----  \n",
            " 0   air wavelength    30010 non-null  float64\n",
            " 1   air amplitude     30010 non-null  float64\n",
            " 2   ipa wavelength    30010 non-null  float64\n",
            " 3   ipa amplitude     30010 non-null  float64\n",
            " 4   H2O wavelength    30010 non-null  float64\n",
            " 5   H2O amplitude     30010 non-null  float64\n",
            " 6   Number of sensor  30010 non-null  object \n",
            "dtypes: float64(6), object(1)\n",
            "memory usage: 1.6+ MB\n"
          ]
        }
      ],
      "source": [
        "dataset.info()"
      ]
    },
    {
      "cell_type": "code",
      "execution_count": 12,
      "metadata": {
        "colab": {
          "base_uri": "https://localhost:8080/",
          "height": 300
        },
        "id": "UQI3fiUG1q43",
        "outputId": "331fcde4-670c-407b-8c16-766ed3b36843"
      },
      "outputs": [
        {
          "output_type": "execute_result",
          "data": {
            "text/plain": [
              "       air wavelength  air amplitude  ipa wavelength  ipa amplitude  \\\n",
              "count    30010.000000   30010.000000    30010.000000   30010.000000   \n",
              "mean      1500.000000       0.445280     1500.000000      -1.765555   \n",
              "std         86.632846       5.148124       86.632846       6.973005   \n",
              "min       1350.000000     -14.073000     1350.000000     -16.165000   \n",
              "25%       1425.000000      -3.625175     1425.000000      -6.877225   \n",
              "50%       1500.000000       0.738760     1500.000000      -1.625000   \n",
              "75%       1575.000000       4.630425     1575.000000       4.584075   \n",
              "max       1650.000000       9.869500     1650.000000       9.551500   \n",
              "\n",
              "       H2O wavelength  H2O amplitude  \n",
              "count    30010.000000   30010.000000  \n",
              "mean      1500.000000      -1.717725  \n",
              "std         86.632846       6.560504  \n",
              "min       1350.000000     -14.673000  \n",
              "25%       1425.000000      -6.825600  \n",
              "50%       1500.000000      -1.859100  \n",
              "75%       1575.000000       4.331600  \n",
              "max       1650.000000       9.284900  "
            ],
            "text/html": [
              "\n",
              "  <div id=\"df-a13a7fb5-b326-40e5-b5e2-29a92b37f0f4\">\n",
              "    <div class=\"colab-df-container\">\n",
              "      <div>\n",
              "<style scoped>\n",
              "    .dataframe tbody tr th:only-of-type {\n",
              "        vertical-align: middle;\n",
              "    }\n",
              "\n",
              "    .dataframe tbody tr th {\n",
              "        vertical-align: top;\n",
              "    }\n",
              "\n",
              "    .dataframe thead th {\n",
              "        text-align: right;\n",
              "    }\n",
              "</style>\n",
              "<table border=\"1\" class=\"dataframe\">\n",
              "  <thead>\n",
              "    <tr style=\"text-align: right;\">\n",
              "      <th></th>\n",
              "      <th>air wavelength</th>\n",
              "      <th>air amplitude</th>\n",
              "      <th>ipa wavelength</th>\n",
              "      <th>ipa amplitude</th>\n",
              "      <th>H2O wavelength</th>\n",
              "      <th>H2O amplitude</th>\n",
              "    </tr>\n",
              "  </thead>\n",
              "  <tbody>\n",
              "    <tr>\n",
              "      <th>count</th>\n",
              "      <td>30010.000000</td>\n",
              "      <td>30010.000000</td>\n",
              "      <td>30010.000000</td>\n",
              "      <td>30010.000000</td>\n",
              "      <td>30010.000000</td>\n",
              "      <td>30010.000000</td>\n",
              "    </tr>\n",
              "    <tr>\n",
              "      <th>mean</th>\n",
              "      <td>1500.000000</td>\n",
              "      <td>0.445280</td>\n",
              "      <td>1500.000000</td>\n",
              "      <td>-1.765555</td>\n",
              "      <td>1500.000000</td>\n",
              "      <td>-1.717725</td>\n",
              "    </tr>\n",
              "    <tr>\n",
              "      <th>std</th>\n",
              "      <td>86.632846</td>\n",
              "      <td>5.148124</td>\n",
              "      <td>86.632846</td>\n",
              "      <td>6.973005</td>\n",
              "      <td>86.632846</td>\n",
              "      <td>6.560504</td>\n",
              "    </tr>\n",
              "    <tr>\n",
              "      <th>min</th>\n",
              "      <td>1350.000000</td>\n",
              "      <td>-14.073000</td>\n",
              "      <td>1350.000000</td>\n",
              "      <td>-16.165000</td>\n",
              "      <td>1350.000000</td>\n",
              "      <td>-14.673000</td>\n",
              "    </tr>\n",
              "    <tr>\n",
              "      <th>25%</th>\n",
              "      <td>1425.000000</td>\n",
              "      <td>-3.625175</td>\n",
              "      <td>1425.000000</td>\n",
              "      <td>-6.877225</td>\n",
              "      <td>1425.000000</td>\n",
              "      <td>-6.825600</td>\n",
              "    </tr>\n",
              "    <tr>\n",
              "      <th>50%</th>\n",
              "      <td>1500.000000</td>\n",
              "      <td>0.738760</td>\n",
              "      <td>1500.000000</td>\n",
              "      <td>-1.625000</td>\n",
              "      <td>1500.000000</td>\n",
              "      <td>-1.859100</td>\n",
              "    </tr>\n",
              "    <tr>\n",
              "      <th>75%</th>\n",
              "      <td>1575.000000</td>\n",
              "      <td>4.630425</td>\n",
              "      <td>1575.000000</td>\n",
              "      <td>4.584075</td>\n",
              "      <td>1575.000000</td>\n",
              "      <td>4.331600</td>\n",
              "    </tr>\n",
              "    <tr>\n",
              "      <th>max</th>\n",
              "      <td>1650.000000</td>\n",
              "      <td>9.869500</td>\n",
              "      <td>1650.000000</td>\n",
              "      <td>9.551500</td>\n",
              "      <td>1650.000000</td>\n",
              "      <td>9.284900</td>\n",
              "    </tr>\n",
              "  </tbody>\n",
              "</table>\n",
              "</div>\n",
              "      <button class=\"colab-df-convert\" onclick=\"convertToInteractive('df-a13a7fb5-b326-40e5-b5e2-29a92b37f0f4')\"\n",
              "              title=\"Convert this dataframe to an interactive table.\"\n",
              "              style=\"display:none;\">\n",
              "        \n",
              "  <svg xmlns=\"http://www.w3.org/2000/svg\" height=\"24px\"viewBox=\"0 0 24 24\"\n",
              "       width=\"24px\">\n",
              "    <path d=\"M0 0h24v24H0V0z\" fill=\"none\"/>\n",
              "    <path d=\"M18.56 5.44l.94 2.06.94-2.06 2.06-.94-2.06-.94-.94-2.06-.94 2.06-2.06.94zm-11 1L8.5 8.5l.94-2.06 2.06-.94-2.06-.94L8.5 2.5l-.94 2.06-2.06.94zm10 10l.94 2.06.94-2.06 2.06-.94-2.06-.94-.94-2.06-.94 2.06-2.06.94z\"/><path d=\"M17.41 7.96l-1.37-1.37c-.4-.4-.92-.59-1.43-.59-.52 0-1.04.2-1.43.59L10.3 9.45l-7.72 7.72c-.78.78-.78 2.05 0 2.83L4 21.41c.39.39.9.59 1.41.59.51 0 1.02-.2 1.41-.59l7.78-7.78 2.81-2.81c.8-.78.8-2.07 0-2.86zM5.41 20L4 18.59l7.72-7.72 1.47 1.35L5.41 20z\"/>\n",
              "  </svg>\n",
              "      </button>\n",
              "      \n",
              "  <style>\n",
              "    .colab-df-container {\n",
              "      display:flex;\n",
              "      flex-wrap:wrap;\n",
              "      gap: 12px;\n",
              "    }\n",
              "\n",
              "    .colab-df-convert {\n",
              "      background-color: #E8F0FE;\n",
              "      border: none;\n",
              "      border-radius: 50%;\n",
              "      cursor: pointer;\n",
              "      display: none;\n",
              "      fill: #1967D2;\n",
              "      height: 32px;\n",
              "      padding: 0 0 0 0;\n",
              "      width: 32px;\n",
              "    }\n",
              "\n",
              "    .colab-df-convert:hover {\n",
              "      background-color: #E2EBFA;\n",
              "      box-shadow: 0px 1px 2px rgba(60, 64, 67, 0.3), 0px 1px 3px 1px rgba(60, 64, 67, 0.15);\n",
              "      fill: #174EA6;\n",
              "    }\n",
              "\n",
              "    [theme=dark] .colab-df-convert {\n",
              "      background-color: #3B4455;\n",
              "      fill: #D2E3FC;\n",
              "    }\n",
              "\n",
              "    [theme=dark] .colab-df-convert:hover {\n",
              "      background-color: #434B5C;\n",
              "      box-shadow: 0px 1px 3px 1px rgba(0, 0, 0, 0.15);\n",
              "      filter: drop-shadow(0px 1px 2px rgba(0, 0, 0, 0.3));\n",
              "      fill: #FFFFFF;\n",
              "    }\n",
              "  </style>\n",
              "\n",
              "      <script>\n",
              "        const buttonEl =\n",
              "          document.querySelector('#df-a13a7fb5-b326-40e5-b5e2-29a92b37f0f4 button.colab-df-convert');\n",
              "        buttonEl.style.display =\n",
              "          google.colab.kernel.accessAllowed ? 'block' : 'none';\n",
              "\n",
              "        async function convertToInteractive(key) {\n",
              "          const element = document.querySelector('#df-a13a7fb5-b326-40e5-b5e2-29a92b37f0f4');\n",
              "          const dataTable =\n",
              "            await google.colab.kernel.invokeFunction('convertToInteractive',\n",
              "                                                     [key], {});\n",
              "          if (!dataTable) return;\n",
              "\n",
              "          const docLinkHtml = 'Like what you see? Visit the ' +\n",
              "            '<a target=\"_blank\" href=https://colab.research.google.com/notebooks/data_table.ipynb>data table notebook</a>'\n",
              "            + ' to learn more about interactive tables.';\n",
              "          element.innerHTML = '';\n",
              "          dataTable['output_type'] = 'display_data';\n",
              "          await google.colab.output.renderOutput(dataTable, element);\n",
              "          const docLink = document.createElement('div');\n",
              "          docLink.innerHTML = docLinkHtml;\n",
              "          element.appendChild(docLink);\n",
              "        }\n",
              "      </script>\n",
              "    </div>\n",
              "  </div>\n",
              "  "
            ]
          },
          "metadata": {},
          "execution_count": 12
        }
      ],
      "source": [
        "dataset.describe()"
      ]
    },
    {
      "cell_type": "markdown",
      "metadata": {
        "id": "IpW3xO6L3FVZ"
      },
      "source": [
        "# Pandas Profiling\n",
        "I use it to quickly review data, check missing cells, and correlations.\n",
        "Run it only on Google Colab."
      ]
    },
    {
      "cell_type": "code",
      "execution_count": null,
      "metadata": {
        "id": "zdtnSXg_2jYC"
      },
      "outputs": [],
      "source": [
        "profile = ProfileReport(dataset, title=\"Profiling Report\")\n",
        "profile.to_notebook_iframe()"
      ]
    },
    {
      "cell_type": "markdown",
      "metadata": {
        "id": "vHHi0wV8b3X9"
      },
      "source": [
        "# Data Visualization"
      ]
    },
    {
      "cell_type": "markdown",
      "metadata": {
        "id": "-dFOHerYb6m7"
      },
      "source": [
        "## Lineplot for each sensor"
      ]
    },
    {
      "cell_type": "code",
      "execution_count": 25,
      "metadata": {
        "colab": {
          "base_uri": "https://localhost:8080/",
          "height": 1000
        },
        "id": "BJapxbMJa8C0",
        "outputId": "a6d09451-3378-4f99-b8bd-60164a6ebab3"
      },
      "outputs": [
        {
          "output_type": "display_data",
          "data": {
            "text/plain": [
              "<Figure size 360x144 with 1 Axes>"
            ],
            "image/png": "[encoded data removed]"
          },
          "metadata": {
            "needs_background": "light"
          }
        },
        {
          "output_type": "display_data",
          "data": {
            "text/plain": [
              "<Figure size 360x144 with 1 Axes>"
            ],
            "image/png": "[encoded data removed]"
          },
          "metadata": {
            "needs_background": "light"
          }
        },
        {
          "output_type": "display_data",
          "data": {
            "text/plain": [
              "<Figure size 360x144 with 1 Axes>"
            ],
            "image/png": "[encoded data removed]"
          },
          "metadata": {
            "needs_background": "light"
          }
        },
        {
          "output_type": "display_data",
          "data": {
            "text/plain": [
              "<Figure size 360x144 with 1 Axes>"
            ],
            "image/png": "[encoded data removed]"
          },
          "metadata": {
            "needs_background": "light"
          }
        },
        {
          "output_type": "display_data",
          "data": {
            "text/plain": [
              "<Figure size 360x144 with 1 Axes>"
            ],
            "image/png": "[encoded data removed]"
          },
          "metadata": {
            "needs_background": "light"
          }
        },
        {
          "output_type": "display_data",
          "data": {
            "text/plain": [
              "<Figure size 360x144 with 1 Axes>"
            ],
            "image/png": "[encoded data removed]"
          },
          "metadata": {
            "needs_background": "light"
          }
        },
        {
          "output_type": "display_data",
          "data": {
            "text/plain": [
              "<Figure size 360x144 with 1 Axes>"
            ],
            "image/png": "[encoded data removed]"
          },
          "metadata": {
            "needs_background": "light"
          }
        },
        {
          "output_type": "display_data",
          "data": {
            "text/plain": [
              "<Figure size 360x144 with 1 Axes>"
            ],
            "image/png": "[encoded data removed]"
          },
          "metadata": {
            "needs_background": "light"
          }
        },
        {
          "output_type": "display_data",
          "data": {
            "text/plain": [
              "<Figure size 360x144 with 1 Axes>"
            ],
            "image/png": "[encoded data removed]"
          },
          "metadata": {
            "needs_background": "light"
          }
        },
        {
          "output_type": "display_data",
          "data": {
            "text/plain": [
              "<Figure size 360x144 with 1 Axes>"
            ],
            "image/png": "[encoded data removed]"
          },
          "metadata": {
            "needs_background": "light"
          }
        }
      ],
      "source": [
        "for i in range(1, 11):\n",
        "  lineplot(f'Sensor {i}')\n"
      ]
    },
    {
      "cell_type": "markdown",
      "source": [
        "### Conclusions\n",
        "\n",
        "The measurements for the Sensor 8 seem to be outliers, especially the air measurement."
      ],
      "metadata": {
        "id": "VOJpo_ByvmV5"
      }
    },
    {
      "cell_type": "markdown",
      "source": [
        "## Corelation of dataset"
      ],
      "metadata": {
        "id": "7snAs5mUtCeC"
      }
    },
    {
      "cell_type": "code",
      "source": [
        "heatmap(dataset, 'Corelation of sensor dataset')"
      ],
      "metadata": {
        "colab": {
          "base_uri": "https://localhost:8080/",
          "height": 359
        },
        "id": "WAcFhCOL6_8n",
        "outputId": "a59b70fd-35fc-4207-86ca-881fe2017d42"
      },
      "execution_count": null,
      "outputs": [
        {
          "output_type": "display_data",
          "data": {
            "text/plain": [
              "<Figure size 432x288 with 2 Axes>"
            ],
            "image/png": "[encoded data removed]"
          },
          "metadata": {
            "needs_background": "light"
          }
        }
      ]
    },
    {
      "cell_type": "code",
      "source": [
        "sns.pairplot(dataset, height=1.5, corner=True)"
      ],
      "metadata": {
        "colab": {
          "base_uri": "https://localhost:8080/",
          "height": 674
        },
        "id": "u43jQzviDQav",
        "outputId": "a9bdf67f-1523-432d-e776-cb4e4873ed67"
      },
      "execution_count": null,
      "outputs": [
        {
          "output_type": "execute_result",
          "data": {
            "text/plain": [
              "<seaborn.axisgrid.PairGrid at 0x7f044938bb20>"
            ]
          },
          "metadata": {},
          "execution_count": 51
        },
        {
          "output_type": "display_data",
          "data": {
            "text/plain": [
              "<Figure size 648x648 with 27 Axes>"
            ],
            "image/png": "[encoded data removed]"
          },
          "metadata": {
            "needs_background": "light"
          }
        }
      ]
    },
    {
      "cell_type": "markdown",
      "source": [
        "### Conclusions\n",
        "There is clearly very high corelation between air wavelenght and ipa wavelength (1.0) and H2O wavelenght (1.0). \n",
        "There is corelation between air amplitude and ipa amplitude (0.88) and water amplitude(0.88). There is inverse correlation between wavelength and amplitude.\n"
      ],
      "metadata": {
        "id": "XtI7SuXqu_RD"
      }
    },
    {
      "cell_type": "markdown",
      "source": [
        "# Delete Sensor 8 from dataset\n",
        "The Lineplots show that water measurements for Sensor 8 might be outlier. "
      ],
      "metadata": {
        "id": "7FxVJ1I7wLR0"
      }
    },
    {
      "cell_type": "code",
      "source": [
        "# creating new dataset only for dataset without Sensor 8\n",
        "\n",
        "dataset_remove = dataset.copy()"
      ],
      "metadata": {
        "id": "nPcPBGKzwpdL"
      },
      "execution_count": 47,
      "outputs": []
    },
    {
      "cell_type": "code",
      "source": [
        "# Unique value in 'Number of sensor' column before removing\n",
        "dataset_remove['Number of sensor'].unique()"
      ],
      "metadata": {
        "colab": {
          "base_uri": "https://localhost:8080/"
        },
        "id": "o-HVvvwryy9H",
        "outputId": "3b463714-7a4c-4c85-b0ae-ddccc2c9e34d"
      },
      "execution_count": 48,
      "outputs": [
        {
          "output_type": "execute_result",
          "data": {
            "text/plain": [
              "array(['Sensor 1', 'Sensor 2', 'Sensor 3', 'Sensor 4', 'Sensor 5',\n",
              "       'Sensor 6', 'Sensor 7', 'Sensor 8', 'Sensor 9', 'Sensor 10'],\n",
              "      dtype=object)"
            ]
          },
          "metadata": {},
          "execution_count": 48
        }
      ]
    },
    {
      "cell_type": "code",
      "source": [
        "dataset_remove.drop(dataset_remove.index[dataset_remove['Number of sensor'] == 'Sensor 8'], inplace = True)"
      ],
      "metadata": {
        "id": "RQrirXpSwt5y"
      },
      "execution_count": 49,
      "outputs": []
    },
    {
      "cell_type": "code",
      "source": [
        "# Unique value in 'Number of sensor' column after removing\n",
        "dataset_remove['Number of sensor'].unique()"
      ],
      "metadata": {
        "colab": {
          "base_uri": "https://localhost:8080/"
        },
        "id": "ykD4_tuUxBnT",
        "outputId": "99a1cef9-218e-4833-ea08-ead94fed3509"
      },
      "execution_count": 50,
      "outputs": [
        {
          "output_type": "execute_result",
          "data": {
            "text/plain": [
              "array(['Sensor 1', 'Sensor 2', 'Sensor 3', 'Sensor 4', 'Sensor 5',\n",
              "       'Sensor 6', 'Sensor 7', 'Sensor 9', 'Sensor 10'], dtype=object)"
            ]
          },
          "metadata": {},
          "execution_count": 50
        }
      ]
    },
    {
      "cell_type": "markdown",
      "metadata": {
        "id": "xadqEj3cilDc"
      },
      "source": [
        "# Models - Wavelength"
      ]
    },
    {
      "cell_type": "markdown",
      "source": [
        "## Linear Regression "
      ],
      "metadata": {
        "id": "61GXCd9vE8Bi"
      }
    },
    {
      "cell_type": "code",
      "source": [
        "modeling(dataset_remove[['air wavelength']], dataset_remove[['ipa wavelength', 'H2O wavelength']], model = LinearRegression())"
      ],
      "metadata": {
        "colab": {
          "base_uri": "https://localhost:8080/"
        },
        "id": "3pCnPt4zFIa0",
        "outputId": "49a7a886-67a2-4c1b-c634-cbd7074321a1"
      },
      "execution_count": 18,
      "outputs": [
        {
          "output_type": "stream",
          "name": "stdout",
          "text": [
            "Metrics for LinearRegression()\n",
            "Validation : Mean absolute error:  0.0\n",
            "Validation: R2 score:  1.0\n",
            "Test : Mean absolute error:  0.0\n",
            "Test: R2 score:  1.0\n"
          ]
        }
      ]
    },
    {
      "cell_type": "markdown",
      "source": [
        "## Visualization\n"
      ],
      "metadata": {
        "id": "_FPUaeAuGzE2"
      }
    },
    {
      "cell_type": "code",
      "source": [
        "X = dataset_remove[['air wavelength']]\n",
        "y = dataset_remove[['ipa wavelength', 'H2O wavelength']]\n",
        "\n",
        "X_train, X_test, y_train, y_test = train_test_split(X, y, test_size=0.2, random_state=42)\n",
        "X_train, X_val, y_train, y_val = train_test_split(X_train, y_train, test_size=0.2, random_state=42)\n",
        "\n",
        "model = LinearRegression()\n",
        "model.fit(X_train, y_train)\n",
        "preds_val = model.predict(X_val)\n",
        "preds_test = model.predict(X_test)\n",
        "print (model.intercept_ )\n",
        "print(model.coef_)"
      ],
      "metadata": {
        "id": "si5t-waYGXqI",
        "colab": {
          "base_uri": "https://localhost:8080/"
        },
        "outputId": "32c8ffe0-fd23-49f2-9362-6ae32fb623c6"
      },
      "execution_count": 39,
      "outputs": [
        {
          "output_type": "stream",
          "name": "stdout",
          "text": [
            "[0. 0.]\n",
            "[[1.]\n",
            " [1.]]\n"
          ]
        }
      ]
    },
    {
      "cell_type": "code",
      "source": [
        "# creating dataframe with true and predicted values \n",
        "\n",
        "df = y_test.copy()\n",
        "df['ipa wavelength -preds'] = preds_test[:,0].tolist()\n",
        "df['H2O wavelength -preds'] = preds_test[:,1].tolist()\n",
        "df.sort_index(inplace=True)\n",
        "df.head()"
      ],
      "metadata": {
        "colab": {
          "base_uri": "https://localhost:8080/",
          "height": 206
        },
        "id": "k6HKNcAmMUV4",
        "outputId": "f68a615d-29d0-4ecd-85da-543e4742920c"
      },
      "execution_count": 21,
      "outputs": [
        {
          "output_type": "execute_result",
          "data": {
            "text/plain": [
              "    ipa wavelength  H2O wavelength  ipa wavelength -preds  \\\n",
              "6           1350.6          1350.6                 1350.6   \n",
              "17          1351.7          1351.7                 1351.7   \n",
              "29          1352.9          1352.9                 1352.9   \n",
              "30          1353.0          1353.0                 1353.0   \n",
              "34          1353.4          1353.4                 1353.4   \n",
              "\n",
              "    H2O wavelength -preds  \n",
              "6                  1350.6  \n",
              "17                 1351.7  \n",
              "29                 1352.9  \n",
              "30                 1353.0  \n",
              "34                 1353.4  "
            ],
            "text/html": [
              "\n",
              "  <div id=\"df-eeb25f9e-5768-4c94-8d3a-223106205056\">\n",
              "    <div class=\"colab-df-container\">\n",
              "      <div>\n",
              "<style scoped>\n",
              "    .dataframe tbody tr th:only-of-type {\n",
              "        vertical-align: middle;\n",
              "    }\n",
              "\n",
              "    .dataframe tbody tr th {\n",
              "        vertical-align: top;\n",
              "    }\n",
              "\n",
              "    .dataframe thead th {\n",
              "        text-align: right;\n",
              "    }\n",
              "</style>\n",
              "<table border=\"1\" class=\"dataframe\">\n",
              "  <thead>\n",
              "    <tr style=\"text-align: right;\">\n",
              "      <th></th>\n",
              "      <th>ipa wavelength</th>\n",
              "      <th>H2O wavelength</th>\n",
              "      <th>ipa wavelength -preds</th>\n",
              "      <th>H2O wavelength -preds</th>\n",
              "    </tr>\n",
              "  </thead>\n",
              "  <tbody>\n",
              "    <tr>\n",
              "      <th>6</th>\n",
              "      <td>1350.6</td>\n",
              "      <td>1350.6</td>\n",
              "      <td>1350.6</td>\n",
              "      <td>1350.6</td>\n",
              "    </tr>\n",
              "    <tr>\n",
              "      <th>17</th>\n",
              "      <td>1351.7</td>\n",
              "      <td>1351.7</td>\n",
              "      <td>1351.7</td>\n",
              "      <td>1351.7</td>\n",
              "    </tr>\n",
              "    <tr>\n",
              "      <th>29</th>\n",
              "      <td>1352.9</td>\n",
              "      <td>1352.9</td>\n",
              "      <td>1352.9</td>\n",
              "      <td>1352.9</td>\n",
              "    </tr>\n",
              "    <tr>\n",
              "      <th>30</th>\n",
              "      <td>1353.0</td>\n",
              "      <td>1353.0</td>\n",
              "      <td>1353.0</td>\n",
              "      <td>1353.0</td>\n",
              "    </tr>\n",
              "    <tr>\n",
              "      <th>34</th>\n",
              "      <td>1353.4</td>\n",
              "      <td>1353.4</td>\n",
              "      <td>1353.4</td>\n",
              "      <td>1353.4</td>\n",
              "    </tr>\n",
              "  </tbody>\n",
              "</table>\n",
              "</div>\n",
              "      <button class=\"colab-df-convert\" onclick=\"convertToInteractive('df-eeb25f9e-5768-4c94-8d3a-223106205056')\"\n",
              "              title=\"Convert this dataframe to an interactive table.\"\n",
              "              style=\"display:none;\">\n",
              "        \n",
              "  <svg xmlns=\"http://www.w3.org/2000/svg\" height=\"24px\"viewBox=\"0 0 24 24\"\n",
              "       width=\"24px\">\n",
              "    <path d=\"M0 0h24v24H0V0z\" fill=\"none\"/>\n",
              "    <path d=\"M18.56 5.44l.94 2.06.94-2.06 2.06-.94-2.06-.94-.94-2.06-.94 2.06-2.06.94zm-11 1L8.5 8.5l.94-2.06 2.06-.94-2.06-.94L8.5 2.5l-.94 2.06-2.06.94zm10 10l.94 2.06.94-2.06 2.06-.94-2.06-.94-.94-2.06-.94 2.06-2.06.94z\"/><path d=\"M17.41 7.96l-1.37-1.37c-.4-.4-.92-.59-1.43-.59-.52 0-1.04.2-1.43.59L10.3 9.45l-7.72 7.72c-.78.78-.78 2.05 0 2.83L4 21.41c.39.39.9.59 1.41.59.51 0 1.02-.2 1.41-.59l7.78-7.78 2.81-2.81c.8-.78.8-2.07 0-2.86zM5.41 20L4 18.59l7.72-7.72 1.47 1.35L5.41 20z\"/>\n",
              "  </svg>\n",
              "      </button>\n",
              "      \n",
              "  <style>\n",
              "    .colab-df-container {\n",
              "      display:flex;\n",
              "      flex-wrap:wrap;\n",
              "      gap: 12px;\n",
              "    }\n",
              "\n",
              "    .colab-df-convert {\n",
              "      background-color: #E8F0FE;\n",
              "      border: none;\n",
              "      border-radius: 50%;\n",
              "      cursor: pointer;\n",
              "      display: none;\n",
              "      fill: #1967D2;\n",
              "      height: 32px;\n",
              "      padding: 0 0 0 0;\n",
              "      width: 32px;\n",
              "    }\n",
              "\n",
              "    .colab-df-convert:hover {\n",
              "      background-color: #E2EBFA;\n",
              "      box-shadow: 0px 1px 2px rgba(60, 64, 67, 0.3), 0px 1px 3px 1px rgba(60, 64, 67, 0.15);\n",
              "      fill: #174EA6;\n",
              "    }\n",
              "\n",
              "    [theme=dark] .colab-df-convert {\n",
              "      background-color: #3B4455;\n",
              "      fill: #D2E3FC;\n",
              "    }\n",
              "\n",
              "    [theme=dark] .colab-df-convert:hover {\n",
              "      background-color: #434B5C;\n",
              "      box-shadow: 0px 1px 3px 1px rgba(0, 0, 0, 0.15);\n",
              "      filter: drop-shadow(0px 1px 2px rgba(0, 0, 0, 0.3));\n",
              "      fill: #FFFFFF;\n",
              "    }\n",
              "  </style>\n",
              "\n",
              "      <script>\n",
              "        const buttonEl =\n",
              "          document.querySelector('#df-eeb25f9e-5768-4c94-8d3a-223106205056 button.colab-df-convert');\n",
              "        buttonEl.style.display =\n",
              "          google.colab.kernel.accessAllowed ? 'block' : 'none';\n",
              "\n",
              "        async function convertToInteractive(key) {\n",
              "          const element = document.querySelector('#df-eeb25f9e-5768-4c94-8d3a-223106205056');\n",
              "          const dataTable =\n",
              "            await google.colab.kernel.invokeFunction('convertToInteractive',\n",
              "                                                     [key], {});\n",
              "          if (!dataTable) return;\n",
              "\n",
              "          const docLinkHtml = 'Like what you see? Visit the ' +\n",
              "            '<a target=\"_blank\" href=https://colab.research.google.com/notebooks/data_table.ipynb>data table notebook</a>'\n",
              "            + ' to learn more about interactive tables.';\n",
              "          element.innerHTML = '';\n",
              "          dataTable['output_type'] = 'display_data';\n",
              "          await google.colab.output.renderOutput(dataTable, element);\n",
              "          const docLink = document.createElement('div');\n",
              "          docLink.innerHTML = docLinkHtml;\n",
              "          element.appendChild(docLink);\n",
              "        }\n",
              "      </script>\n",
              "    </div>\n",
              "  </div>\n",
              "  "
            ]
          },
          "metadata": {},
          "execution_count": 21
        }
      ]
    },
    {
      "cell_type": "code",
      "source": [
        "fig, ax = plt.subplots(nrows = 1, ncols = 2, figsize = (12, 6)) \n",
        "\n",
        "ax[0].scatter(df['ipa wavelength'], \n",
        "          df['ipa wavelength -preds'], \n",
        "          label='IPA', color = 'orange') \n",
        "ax[0].set_xlabel('ipa wavelength [nm] - true')\n",
        "ax[0].set_ylabel('ipa wavelength [nm] -preds')\n",
        "\n",
        "ax[0].grid() \n",
        "ax[0].legend(loc='upper left')\n",
        "ax[0].set_title(f'Real vs predict values') \n",
        "\n",
        "ax[1].scatter (df['H2O wavelength'], \n",
        "          df['H2O wavelength -preds'], \n",
        "          label='H2O', color = 'green')\n",
        "ax[1].set_xlabel('H2O wavelength [nm] - true')\n",
        "ax[1].set_ylabel('H2O wavelength [nm] -preds')\n",
        "ax[1].grid() \n",
        "ax[1].legend(loc='upper left')\n",
        "ax[1].set_title(f'Real vs predict values')\n",
        "\n",
        "\n",
        "plt.show()"
      ],
      "metadata": {
        "colab": {
          "base_uri": "https://localhost:8080/",
          "height": 404
        },
        "id": "dff--4pdcvD_",
        "outputId": "54a3d865-8c62-4de4-e59f-da36abe747ea"
      },
      "execution_count": 44,
      "outputs": [
        {
          "output_type": "display_data",
          "data": {
            "text/plain": [
              "<Figure size 864x432 with 2 Axes>"
            ],
            "image/png": "[encoded data removed]"
          },
          "metadata": {
            "needs_background": "light"
          }
        }
      ]
    },
    {
      "cell_type": "code",
      "source": [
        "# checking that the wavelength is always the same\n",
        "dataset_check = dataset_remove.copy()\n",
        "dataset_check['wavelength diffrence air - ipa'] = dataset_check['air wavelength'] - dataset_check['ipa wavelength']\n",
        "dataset_check['wavelength diffrence air - H2O'] = dataset_check['air wavelength'] - dataset_check['H2O wavelength']\n",
        "print (\"Sum of 'wavelength diffrence air - ipa' column \", dataset_check['wavelength diffrence air - ipa'].sum())\n",
        "print (\"Sum of 'wavelength diffrence air - H2O' column \", dataset_check['wavelength diffrence air - H2O'].sum())"
      ],
      "metadata": {
        "colab": {
          "base_uri": "https://localhost:8080/"
        },
        "id": "d-D0QXEkUR3t",
        "outputId": "3718ad79-8a57-455f-8209-bc3ac5bf2a59"
      },
      "execution_count": 54,
      "outputs": [
        {
          "output_type": "stream",
          "name": "stdout",
          "text": [
            "Sum of 'wavelength diffrence air - ipa' column  0.0\n",
            "Sum of 'wavelength diffrence air - H2O' column  0.0\n"
          ]
        }
      ]
    },
    {
      "cell_type": "markdown",
      "source": [
        "## Conclusion\n",
        "The intercepts equal 0 and coefficiens 1. Wavelength prediction is unnecessary because the wavelength is the same for air, isopropylene alcohol, and water. The cell above shows that the sum of the wavelength differences is 0. \n",
        "It is necessary to predict what will be the amplitude for isopropylene and water for a given wavelength."
      ],
      "metadata": {
        "id": "SxkiM-FNTl1Y"
      }
    },
    {
      "cell_type": "markdown",
      "metadata": {
        "id": "4GdZoxSTkpbR"
      },
      "source": [
        "# Models - Amplitude"
      ]
    },
    {
      "cell_type": "markdown",
      "source": [
        "## Linear Regression"
      ],
      "metadata": {
        "id": "8aQpj31mGBWN"
      }
    },
    {
      "cell_type": "markdown",
      "source": [
        "### All dataset"
      ],
      "metadata": {
        "id": "LnUtkWijGGbj"
      }
    },
    {
      "cell_type": "code",
      "source": [
        "# model 1\n",
        "\n",
        "modeling(dataset[['air amplitude']], dataset[['ipa amplitude', 'H2O amplitude']], model = LinearRegression())"
      ],
      "metadata": {
        "colab": {
          "base_uri": "https://localhost:8080/"
        },
        "id": "Gx8bMeASGJ9D",
        "outputId": "05a05b34-546f-4102-9be9-64bc4e600d67"
      },
      "execution_count": null,
      "outputs": [
        {
          "output_type": "stream",
          "name": "stdout",
          "text": [
            "Metrics for LinearRegression()\n",
            "Validation : Mean absolute error:  2.730732386897918\n",
            "Validation: R2 score:  0.7696153307695299\n",
            "Test : Mean absolute error:  2.744217338201765\n",
            "Test: R2 score:  0.7699594077023819\n"
          ]
        }
      ]
    },
    {
      "cell_type": "markdown",
      "source": [
        "### Without Sensor 8"
      ],
      "metadata": {
        "id": "sxxKvXBqGYHR"
      }
    },
    {
      "cell_type": "code",
      "source": [
        "# model 2\n",
        "\n",
        "modeling(dataset_remove[['air amplitude']], dataset_remove[['ipa amplitude', 'H2O amplitude']], model = LinearRegression())"
      ],
      "metadata": {
        "colab": {
          "base_uri": "https://localhost:8080/"
        },
        "id": "ZxhM_APwGZ9z",
        "outputId": "f94b89d0-c923-493a-dd8f-63076cd51c6a"
      },
      "execution_count": null,
      "outputs": [
        {
          "output_type": "stream",
          "name": "stdout",
          "text": [
            "Metrics for LinearRegression()\n",
            "Validation : Mean absolute error:  2.674048833905707\n",
            "Validation: R2 score:  0.7821796535014851\n",
            "Test : Mean absolute error:  2.666532070668156\n",
            "Test: R2 score:  0.7838285913622833\n"
          ]
        }
      ]
    },
    {
      "cell_type": "markdown",
      "source": [
        "## Random Forest"
      ],
      "metadata": {
        "id": "5I7yyRZKGd_b"
      }
    },
    {
      "cell_type": "markdown",
      "source": [
        "### All dataset"
      ],
      "metadata": {
        "id": "zoBCy0nxGy7I"
      }
    },
    {
      "cell_type": "code",
      "source": [
        "# model 3\n",
        "# model based only on 'air amplitude'\n",
        "\n",
        "modeling(x = dataset[['air amplitude']], y = dataset[['ipa amplitude', 'H2O amplitude']], model = RandomForestRegressor(random_state=1))"
      ],
      "metadata": {
        "colab": {
          "base_uri": "https://localhost:8080/"
        },
        "id": "yooF97sCGgY0",
        "outputId": "ab9343b0-5092-4dc2-ed47-73a2500d492d"
      },
      "execution_count": null,
      "outputs": [
        {
          "output_type": "stream",
          "name": "stdout",
          "text": [
            "Metrics for RandomForestRegressor(random_state=1)\n",
            "Validation : Mean absolute error:  2.480134260410199\n",
            "Validation: R2 score:  0.7104096744553754\n",
            "Test : Mean absolute error:  2.4627545337059606\n",
            "Test: R2 score:  0.7111953010923686\n"
          ]
        }
      ]
    },
    {
      "cell_type": "code",
      "source": [
        "# model 4\n",
        "# model based on 'air amplitude' and 'air wavelength'\n",
        "\n",
        "modeling(x = dataset[['air amplitude', 'air wavelength']], \n",
        "         y = dataset[['ipa amplitude', 'H2O amplitude']], model = RandomForestRegressor(random_state=1))"
      ],
      "metadata": {
        "colab": {
          "base_uri": "https://localhost:8080/"
        },
        "id": "ZFOBmuXASUV_",
        "outputId": "31b39cb6-c067-4dde-c397-6d630509f3a7"
      },
      "execution_count": 43,
      "outputs": [
        {
          "output_type": "stream",
          "name": "stdout",
          "text": [
            "Metrics for RandomForestRegressor(random_state=1)\n",
            "Validation : Mean absolute error:  0.2719727492254959\n",
            "Validation: R2 score:  0.995261235112006\n",
            "Test : Mean absolute error:  0.2723618700976339\n",
            "Test: R2 score:  0.9953437925841256\n"
          ]
        }
      ]
    },
    {
      "cell_type": "markdown",
      "source": [
        "#### Note\n",
        "Clearly, adding the 'air wavelength' column to features improves the model's metrics."
      ],
      "metadata": {
        "id": "DDwLSuyFmMfL"
      }
    },
    {
      "cell_type": "markdown",
      "source": [
        "### Without Sensor 8"
      ],
      "metadata": {
        "id": "kN30eqQYG30B"
      }
    },
    {
      "cell_type": "code",
      "source": [
        "# model 5\n",
        "# model based on 'air amplitude' and 'air wavelength'\n",
        "\n",
        "modeling(x = dataset_remove[['air amplitude', 'air wavelength']], \n",
        "         y = dataset_remove[['ipa amplitude', 'H2O amplitude']], model = RandomForestRegressor(random_state=1))"
      ],
      "metadata": {
        "colab": {
          "base_uri": "https://localhost:8080/"
        },
        "id": "TebYEIpWHdqK",
        "outputId": "511ba6d7-be73-4aae-d6c0-bd20b2df0fa5"
      },
      "execution_count": 55,
      "outputs": [
        {
          "output_type": "stream",
          "name": "stdout",
          "text": [
            "Metrics for RandomForestRegressor(random_state=1)\n",
            "Validation : Mean absolute error:  0.20911520503123557\n",
            "Validation: R2 score:  0.9967939317180382\n",
            "Test : Mean absolute error:  0.20440883809061478\n",
            "Test: R2 score:  0.9969100375092863\n"
          ]
        }
      ]
    },
    {
      "cell_type": "markdown",
      "source": [
        "## Random Forest after MinMaxScaler"
      ],
      "metadata": {
        "id": "3ziVj1-GIZb1"
      }
    },
    {
      "cell_type": "markdown",
      "source": [
        "### Multi-output "
      ],
      "metadata": {
        "id": "swcy5ihpmpSR"
      }
    },
    {
      "cell_type": "code",
      "source": [
        "# model 6\n",
        "\n",
        "scaler = MinMaxScaler()\n",
        "\n",
        "X = scaler.fit_transform(dataset_remove[['air amplitude', 'air wavelength']])\n",
        "y = dataset_remove[['ipa amplitude', 'H2O amplitude']]\n",
        "\n",
        "X_train, X_test, y_train, y_test = train_test_split(X, y, test_size=0.2, random_state=42)\n",
        "X_train, X_val, y_train, y_val = train_test_split(X_train, y_train, test_size=0.2, random_state=42)\n",
        "\n",
        "model = RandomForestRegressor(random_state=1)\n",
        "model.fit(X_train, y_train)\n",
        "preds_val = model.predict(X_val)\n",
        "preds_test = model.predict(X_test)\n",
        "\n",
        "\n",
        "\n",
        "print(f'Metrics for {model}')\n",
        "print(\"Validation : Mean absolute error: \", mean_absolute_error(y_val, preds_val))\n",
        "print(\"Validation: R2 score: \",r2_score(y_val, preds_val))\n",
        "print(\"Test : Mean absolute error: \", mean_absolute_error(y_test, preds_test))\n",
        "print(\"Test: R2 score: \",r2_score(y_test, preds_test))"
      ],
      "metadata": {
        "colab": {
          "base_uri": "https://localhost:8080/"
        },
        "id": "3XKJS-Vnm1__",
        "outputId": "e56612ed-60a9-46bb-9624-b92c26960756"
      },
      "execution_count": 92,
      "outputs": [
        {
          "output_type": "stream",
          "name": "stdout",
          "text": [
            "Metrics for RandomForestRegressor(random_state=1)\n",
            "Validation : Mean absolute error:  0.20953490881513187\n",
            "Validation: R2 score:  0.9967818348560449\n",
            "Test : Mean absolute error:  0.20457135313097008\n",
            "Test: R2 score:  0.9969033075053033\n"
          ]
        }
      ]
    },
    {
      "cell_type": "markdown",
      "source": [
        "### One output 'ipa amplitude'"
      ],
      "metadata": {
        "id": "gdYJieRAm50m"
      }
    },
    {
      "cell_type": "code",
      "source": [
        "#model 7\n",
        "\n",
        "scaler = MinMaxScaler()\n",
        "\n",
        "X = scaler.fit_transform(dataset_remove[['air amplitude', 'air wavelength']])\n",
        "y = (dataset_remove['ipa amplitude'])\n",
        "\n",
        "X_train, X_test, y_train, y_test = train_test_split(X, y, test_size=0.2, random_state=42)\n",
        "X_train, X_val, y_train, y_val = train_test_split(X_train, y_train, test_size=0.2, random_state=42)\n",
        "\n",
        "model = RandomForestRegressor(random_state=1)\n",
        "model.fit(X_train, y_train)\n",
        "preds_val = model.predict(X_val)\n",
        "preds_test = model.predict(X_test)\n",
        "\n",
        "\n",
        "\n",
        "print(f'Metrics for {model}')\n",
        "print(\"Validation : Mean absolute error: \", mean_absolute_error(y_val, preds_val))\n",
        "print(\"Validation: R2 score: \",r2_score(y_val, preds_val))\n",
        "print(\"Test : Mean absolute error: \", mean_absolute_error(y_test, preds_test))\n",
        "print(\"Test: R2 score: \",r2_score(y_test, preds_test))"
      ],
      "metadata": {
        "colab": {
          "base_uri": "https://localhost:8080/"
        },
        "id": "UeO52goVlYhS",
        "outputId": "89bf93be-813a-44b7-8a3f-99a68621cd67"
      },
      "execution_count": 93,
      "outputs": [
        {
          "output_type": "stream",
          "name": "stdout",
          "text": [
            "Metrics for RandomForestRegressor(random_state=1)\n",
            "Validation : Mean absolute error:  0.21642827982947713\n",
            "Validation: R2 score:  0.9965677067227635\n",
            "Test : Mean absolute error:  0.21110142597667536\n",
            "Test: R2 score:  0.9966191437801557\n"
          ]
        }
      ]
    },
    {
      "cell_type": "markdown",
      "source": [
        "### One output 'H2O amplitude'"
      ],
      "metadata": {
        "id": "7sXNVJb_nB0x"
      }
    },
    {
      "cell_type": "code",
      "source": [
        "#model 8\n",
        "\n",
        "scaler = MinMaxScaler()\n",
        "\n",
        "X = scaler.fit_transform(dataset_remove[['air amplitude', 'air wavelength']])\n",
        "y = (dataset_remove['H2O amplitude'])\n",
        "\n",
        "X_train, X_test, y_train, y_test = train_test_split(X, y, test_size=0.2, random_state=42)\n",
        "X_train, X_val, y_train, y_val = train_test_split(X_train, y_train, test_size=0.2, random_state=42)\n",
        "\n",
        "model = RandomForestRegressor(random_state=1)\n",
        "model.fit(X_train, y_train)\n",
        "preds_val = model.predict(X_val)\n",
        "preds_test = model.predict(X_test)\n",
        "\n",
        "\n",
        "\n",
        "print(f'Metrics for {model}')\n",
        "print(\"Validation : Mean absolute error: \", mean_absolute_error(y_val, preds_val))\n",
        "print(\"Validation: R2 score: \",r2_score(y_val, preds_val))\n",
        "print(\"Test : Mean absolute error: \", mean_absolute_error(y_test, preds_test))\n",
        "print(\"Test: R2 score: \",r2_score(y_test, preds_test))"
      ],
      "metadata": {
        "colab": {
          "base_uri": "https://localhost:8080/"
        },
        "id": "z29mSvSMlkbS",
        "outputId": "52965ec7-bb08-4277-b2d4-62c51ae36a74"
      },
      "execution_count": 91,
      "outputs": [
        {
          "output_type": "stream",
          "name": "stdout",
          "text": [
            "Metrics for RandomForestRegressor(random_state=1)\n",
            "Validation : Mean absolute error:  0.20236818091724507\n",
            "Validation: R2 score:  0.9970746663596682\n",
            "Test : Mean absolute error:  0.19860426414439092\n",
            "Test: R2 score:  0.9971777096946187\n"
          ]
        }
      ]
    },
    {
      "cell_type": "markdown",
      "source": [
        "## Visualization \n",
        "Results of Random Forest Multi-output without Sensor 8 (model 5)"
      ],
      "metadata": {
        "id": "kmrQLNhZXwQL"
      }
    },
    {
      "cell_type": "code",
      "source": [
        "# Prepare dataset for vizualization\n",
        "X = dataset_remove[['air amplitude', 'air wavelength']]\n",
        "y = dataset_remove[['ipa amplitude', 'H2O amplitude']]\n",
        "\n",
        "X_train, X_test, y_train, y_test = train_test_split(X, y, test_size=0.2, random_state=42)\n",
        "X_train, X_val, y_train, y_val = train_test_split(X_train, y_train, test_size=0.2, random_state=42)\n",
        "\n",
        "model = RandomForestRegressor(random_state=1)\n",
        "model.fit(X_train, y_train)\n",
        "preds_val = model.predict(X_val)\n",
        "preds_test = model.predict(X_test)\n",
        "\n",
        "y_test_back = scaler.inverse_transform(y_test)\n",
        "preds_test_back= scaler.inverse_transform(preds_test)\n",
        "df = pd.DataFrame()\n",
        "\n",
        "df = y_test.copy()\n",
        "df['ipa amplitude -preds'] = preds_test[:,0].tolist()\n",
        "df['H2O amplitude -preds'] = preds_test[:,1].tolist()\n",
        "df.sort_index(inplace=True)\n",
        "df.head()"
      ],
      "metadata": {
        "id": "K7SDrH2NX1gy"
      },
      "execution_count": 94,
      "outputs": []
    },
    {
      "cell_type": "code",
      "source": [
        "fig, ax = plt.subplots(nrows = 1, ncols = 2, figsize = (12, 6)) \n",
        "\n",
        "ax[0].scatter(df['ipa amplitude'], \n",
        "          df['ipa amplitude -preds'], \n",
        "          label='IPA', color = 'orange') \n",
        "ax[0].set_xlabel('ipa amplitude [dB] - true')\n",
        "ax[0].set_ylabel('ipa amplitude [dB] -preds')\n",
        "\n",
        "ax[0].grid() \n",
        "ax[0].legend(loc='upper left')\n",
        "ax[0].set_title(f'Real vs predict values') \n",
        "\n",
        "ax[1].scatter (df['H2O amplitude'], \n",
        "          df['H2O amplitude -preds'], \n",
        "          label='H2O', color = 'green')\n",
        "ax[1].set_xlabel('H2O amplitude [dB] - true')\n",
        "ax[1].set_ylabel('H2O amplitude [dB] -preds')\n",
        "ax[1].grid() \n",
        "ax[1].legend(loc='upper left')\n",
        "ax[1].set_title(f'Real vs predict values')\n",
        "\n",
        "\n",
        "plt.show()"
      ],
      "metadata": {
        "colab": {
          "base_uri": "https://localhost:8080/",
          "height": 404
        },
        "id": "SiiftjPqYaDo",
        "outputId": "c315c29e-ff34-4e48-ec75-c2bf54d14336"
      },
      "execution_count": 97,
      "outputs": [
        {
          "output_type": "display_data",
          "data": {
            "text/plain": [
              "<Figure size 864x432 with 2 Axes>"
            ],
            "image/png": "[encoded data removed]"
          },
          "metadata": {
            "needs_background": "light"
          }
        }
      ]
    },
    {
      "cell_type": "markdown",
      "source": [
        "# Conclusions\n",
        "\n",
        "\n",
        "\n",
        "1.   The Sensor 8 measurement should be treated as an outlier and removed.\n",
        "\n",
        "2.   The data shows that there is no need to predict the wavelength for isopropylene and water, but their amplitudes at a given wavelength.\n",
        "\n",
        "3.   Predicting the amplitude based only on the amplitude of the air does not give satisfactory results (Random Forest Mae around 2.4523) . Therefore, the wavelengths in air must be taken into model when predicting the amplitude. \n",
        "\n",
        "4.   Standardization does not significantly improved the quality of the amplitude model.\n",
        "\n",
        "5.   The final model for the amplitude is a Random Forest (model 5) based on cleaned data (sensor 8 measurements removed) and with two outputs. The selected model is not overfitting and its test set Mae is around 0.209, r2 around 0.997.\n",
        "\n",
        "6.   The metrics of the final model are not satisfactory. The aim should be to minimize the MAE at 0.01.\n",
        "\n",
        "7.   From the graph of real and predicted values for Random Forest (model 5), it can be read that the greatest discrepancy of the results is for very small amplitudes (below -7). Amplitude values ​​below -7 are the most important to create a proper wavelength vs. amplitude plot, and it is these values ​​that are crucial for sensor verification.\n",
        "\n",
        "\n",
        "\n",
        "\n",
        "\n",
        "\n",
        "\n",
        "\n",
        "\n",
        "\n",
        "\n",
        "\n",
        "\n",
        "\n"
      ],
      "metadata": {
        "id": "bRDj_IE6Py59"
      }
    },
    {
      "cell_type": "markdown",
      "source": [
        "# Recomendations\n",
        "\n",
        "1.   Using the os/glob/Path libraries to automate loading files.\n",
        "2.   Selection of hyperparameters for the Random Forest model.\n",
        "3.   Building a model of neural networks.\n",
        "4.   Colecting more data.\n",
        "5.   Conversation with specialists and adding an additional parameter to verify the sensors.\n",
        "6.   Setting a new goal with business: maybe you don't have to deal with measurements in the laboratory and focus on verifying sensors already during production through the use of AI algorithms.\n",
        "\n",
        "\n",
        "\n"
      ],
      "metadata": {
        "id": "NvkDjzJZsomK"
      }
    }
  ],
  "metadata": {
    "colab": {
      "collapsed_sections": [
        "XLY_5TeeD1Ir"
      ],
      "toc_visible": true,
      "provenance": [],
      "authorship_tag": "ABX9TyNRveZ9OR/+hLoCy10SbANs",
      "include_colab_link": true
    },
    "kernelspec": {
      "display_name": "Python 3",
      "name": "python3"
    },
    "language_info": {
      "name": "python"
    }
  },
  "nbformat": 4,
  "nbformat_minor": 0
}